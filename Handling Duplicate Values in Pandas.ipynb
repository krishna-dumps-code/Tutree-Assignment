{
 "cells": [
  {
   "cell_type": "markdown",
   "metadata": {},
   "source": [
    "Question: How can you handle duplicate values in a dataset for a variable in Python using pandas?\n",
    "\n",
    "Answer-> In Pandas, we can easily identify and also remove the duplicate data using the functions like duplicated() and drop_duplicates() respectively. Though removing the duplicate data is not always the best option to deal with it. \n",
    "It depends on the problem statement and the nature of the dataset. Duplicates should be removed only after it is made sure that the data is redundant or keeping them may result in overfitting.\n",
    "\n",
    "Here is an example(code) of how we can identify and remove the duplicates in our dataset using Pandas in Python."
   ]
  },
  {
   "cell_type": "code",
   "execution_count": 3,
   "metadata": {},
   "outputs": [],
   "source": [
    "#Importing the pandas library\n",
    "import pandas as pd"
   ]
  },
  {
   "cell_type": "code",
   "execution_count": null,
   "metadata": {},
   "outputs": [],
   "source": [
    "#Loading the dateset to work with which is in csv format\n",
    "df = pd.read_csv('file.csv')\n",
    "#Initial dimension of dataset\n",
    "df.shape"
   ]
  },
  {
   "cell_type": "code",
   "execution_count": null,
   "metadata": {},
   "outputs": [],
   "source": [
    "#Identifying data for which the entire row(record) is a duplicate. It returns a boolean array(True if it's a duplicate record).\n",
    "\n",
    "duplicate = df.duplicated()\n",
    "#sum of all duplicate records\n",
    "num_duplicate = sum(duplicate)\n",
    "#Showing the duplicate records\n",
    "df[duplicate].head()\n",
    "\n",
    "#Dropping duplicate records\n",
    "df.drop_duplicates(inplace=True)"
   ]
  },
  {
   "cell_type": "code",
   "execution_count": null,
   "metadata": {},
   "outputs": [],
   "source": [
    "#Identifying and removing duplicates based on variable name.\n",
    "variables = df.columns\n",
    "for variable_name in variables:\n",
    "    #Identifying duplicates based on variable_name\n",
    "    dupe = df[variable_name].duplicated()\n",
    "    #Removing duplicates based on variable_name\n",
    "    df.drop_duplicates(subset=[variable_name],inplace=True)\n",
    "    #OR\n",
    "    df[variable_name].drop_duplicates(inplace=True)\n",
    "    \n",
    "#Check final dimension of dataset after dropping duplicates\n",
    "df.shape"
   ]
  }
 ],
 "metadata": {
  "kernelspec": {
   "display_name": "Python 3",
   "language": "python",
   "name": "python3"
  },
  "language_info": {
   "codemirror_mode": {
    "name": "ipython",
    "version": 3
   },
   "file_extension": ".py",
   "mimetype": "text/x-python",
   "name": "python",
   "nbconvert_exporter": "python",
   "pygments_lexer": "ipython3",
   "version": "3.7.3"
  }
 },
 "nbformat": 4,
 "nbformat_minor": 2
}
